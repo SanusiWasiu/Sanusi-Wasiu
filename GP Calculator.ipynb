{
 "cells": [
  {
   "cell_type": "code",
   "execution_count": null,
   "metadata": {},
   "outputs": [
    {
     "name": "stdout",
     "output_type": "stream",
     "text": [
      "Grade point average calculator\n",
      "enter your name:Sanusi\n",
      "welcome Sanusi\n"
     ]
    }
   ],
   "source": [
    "print(\"Grade point average calculator\")\n",
    "name = input(\"enter your name:\")\n",
    "print (\"welcome\", name)\n",
    "a = int(input(\"enter your score for chm:\"))\n",
    "b = int(input(\"enter your score for geg:\"))\n",
    "c = int(input(\"enter your score for phs:\"))\n",
    "d = int(input(\"enter the unit for chm:\"))\n",
    "e = int(input(\"enter the unit for geg:\"))\n",
    "f = int(input(\"enter the unit for phs:\"))\n",
    "if a >= 70 and a <= 100:\n",
    "    gp1 = (5*d)\n",
    "elif a >= 60 and a <= 69:\n",
    "    gp1 = (4*d)\n",
    "elif a >= 50 and a <= 59:\n",
    "    gp1 = (3*d)\n",
    "elif a >= 45 and a <= 49:\n",
    "    gp1 = (2*d)\n",
    "elif a >= 40 and a <= 64:\n",
    "    gp1 = (1*d)\n",
    "else:\n",
    "    gp1 = (0)\n",
    "if b >= 70 and b <= 100:\n",
    "    gp2 = (5*e)\n",
    "elif b >= 60 and b <= 69:\n",
    "    gp2 = (4*e)\n",
    "elif b >= 50 and b <= 59:\n",
    "    gp2 = (3*e)\n",
    "elif b >= 45 and b <= 49:\n",
    "    gp2 = (2*e)\n",
    "elif b >= 40 and b <= 64:\n",
    "    gp2 = (1*e)\n",
    "else:\n",
    "    gp2 = (0)\n",
    "if c >= 70 and c <= 100:\n",
    "    gp3 = (5*f)\n",
    "elif c >= 60 and c <= 69:\n",
    "    gp3 = (4*f)\n",
    "elif c >= 50 and c <= 59:\n",
    "    gp3 = (3*f)\n",
    "elif c >= 45 and c <= 49:\n",
    "    gp3 = (2*f)\n",
    "elif c >= 40 and c <= 64:\n",
    "    gp3 = (1*f)\n",
    "else:\n",
    "    gp3 = (0)\n",
    "gp = gp1+gp2+gp3\n",
    "tu = d+e+f\n",
    "gpa = gp/tu\n",
    "print(\"your total grade point is:\")\n",
    "print(gp)\n",
    "print(\"your total unit is:\")\n",
    "print(tu)\n",
    "print(\"your grade point average is:\")\n",
    "print(round(gpa, 2))"
   ]
  },
  {
   "cell_type": "code",
   "execution_count": null,
   "metadata": {},
   "outputs": [],
   "source": []
  }
 ],
 "metadata": {
  "kernelspec": {
   "display_name": "Python 3",
   "language": "python",
   "name": "python3"
  },
  "language_info": {
   "codemirror_mode": {
    "name": "ipython",
    "version": 3
   },
   "file_extension": ".py",
   "mimetype": "text/x-python",
   "name": "python",
   "nbconvert_exporter": "python",
   "pygments_lexer": "ipython3",
   "version": "3.6.5"
  }
 },
 "nbformat": 4,
 "nbformat_minor": 2
}
